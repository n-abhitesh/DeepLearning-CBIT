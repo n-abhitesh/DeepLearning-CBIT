{
  "nbformat": 4,
  "nbformat_minor": 0,
  "metadata": {
    "colab": {
      "provenance": [],
      "authorship_tag": "ABX9TyPHkDlGQ6qCeTUZ/VDbONgK",
      "include_colab_link": true
    },
    "kernelspec": {
      "name": "python3",
      "display_name": "Python 3"
    },
    "language_info": {
      "name": "python"
    }
  },
  "cells": [
    {
      "cell_type": "markdown",
      "metadata": {
        "id": "view-in-github",
        "colab_type": "text"
      },
      "source": [
        "<a href=\"https://colab.research.google.com/github/n-abhitesh/DeepLearning-CBIT/blob/main/MDGB_SGD_Adam.ipynb\" target=\"_parent\"><img src=\"https://colab.research.google.com/assets/colab-badge.svg\" alt=\"Open In Colab\"/></a>"
      ]
    },
    {
      "cell_type": "code",
      "execution_count": 4,
      "metadata": {
        "colab": {
          "base_uri": "https://localhost:8080/"
        },
        "id": "S-AavxsYRGRr",
        "outputId": "37a5cb2a-6100-4cb3-b52d-cac34c5af0c5"
      },
      "outputs": [
        {
          "output_type": "stream",
          "name": "stdout",
          "text": [
            "Downloading http://yann.lecun.com/exdb/mnist/train-images-idx3-ubyte.gz\n",
            "Failed to download (trying next):\n",
            "HTTP Error 403: Forbidden\n",
            "\n",
            "Downloading https://ossci-datasets.s3.amazonaws.com/mnist/train-images-idx3-ubyte.gz\n",
            "Downloading https://ossci-datasets.s3.amazonaws.com/mnist/train-images-idx3-ubyte.gz to ./data/MNIST/raw/train-images-idx3-ubyte.gz\n"
          ]
        },
        {
          "output_type": "stream",
          "name": "stderr",
          "text": [
            "100%|██████████| 9912422/9912422 [00:00<00:00, 34112844.30it/s]\n"
          ]
        },
        {
          "output_type": "stream",
          "name": "stdout",
          "text": [
            "Extracting ./data/MNIST/raw/train-images-idx3-ubyte.gz to ./data/MNIST/raw\n",
            "\n",
            "Downloading http://yann.lecun.com/exdb/mnist/train-labels-idx1-ubyte.gz\n",
            "Failed to download (trying next):\n",
            "HTTP Error 403: Forbidden\n",
            "\n",
            "Downloading https://ossci-datasets.s3.amazonaws.com/mnist/train-labels-idx1-ubyte.gz\n",
            "Downloading https://ossci-datasets.s3.amazonaws.com/mnist/train-labels-idx1-ubyte.gz to ./data/MNIST/raw/train-labels-idx1-ubyte.gz\n"
          ]
        },
        {
          "output_type": "stream",
          "name": "stderr",
          "text": [
            "100%|██████████| 28881/28881 [00:00<00:00, 953899.47it/s]\n"
          ]
        },
        {
          "output_type": "stream",
          "name": "stdout",
          "text": [
            "Extracting ./data/MNIST/raw/train-labels-idx1-ubyte.gz to ./data/MNIST/raw\n",
            "\n",
            "Downloading http://yann.lecun.com/exdb/mnist/t10k-images-idx3-ubyte.gz\n",
            "Failed to download (trying next):\n",
            "HTTP Error 403: Forbidden\n",
            "\n",
            "Downloading https://ossci-datasets.s3.amazonaws.com/mnist/t10k-images-idx3-ubyte.gz\n",
            "Downloading https://ossci-datasets.s3.amazonaws.com/mnist/t10k-images-idx3-ubyte.gz to ./data/MNIST/raw/t10k-images-idx3-ubyte.gz\n"
          ]
        },
        {
          "output_type": "stream",
          "name": "stderr",
          "text": [
            "100%|██████████| 1648877/1648877 [00:00<00:00, 7420532.10it/s]\n"
          ]
        },
        {
          "output_type": "stream",
          "name": "stdout",
          "text": [
            "Extracting ./data/MNIST/raw/t10k-images-idx3-ubyte.gz to ./data/MNIST/raw\n",
            "\n",
            "Downloading http://yann.lecun.com/exdb/mnist/t10k-labels-idx1-ubyte.gz\n",
            "Failed to download (trying next):\n",
            "HTTP Error 403: Forbidden\n",
            "\n",
            "Downloading https://ossci-datasets.s3.amazonaws.com/mnist/t10k-labels-idx1-ubyte.gz\n",
            "Downloading https://ossci-datasets.s3.amazonaws.com/mnist/t10k-labels-idx1-ubyte.gz to ./data/MNIST/raw/t10k-labels-idx1-ubyte.gz\n"
          ]
        },
        {
          "output_type": "stream",
          "name": "stderr",
          "text": [
            "100%|██████████| 4542/4542 [00:00<00:00, 3249834.32it/s]\n"
          ]
        },
        {
          "output_type": "stream",
          "name": "stdout",
          "text": [
            "Extracting ./data/MNIST/raw/t10k-labels-idx1-ubyte.gz to ./data/MNIST/raw\n",
            "\n",
            "\n",
            "Training with SGD optimizer:\n",
            "Epoch [1/10] Loss: 2.2963\n",
            "Epoch [2/10] Loss: 2.2901\n",
            "Epoch [3/10] Loss: 2.3169\n",
            "Epoch [4/10] Loss: 2.3160\n",
            "Epoch [5/10] Loss: 2.3336\n",
            "Epoch [6/10] Loss: 2.2857\n",
            "Epoch [7/10] Loss: 2.3113\n",
            "Epoch [8/10] Loss: 2.3367\n",
            "Epoch [9/10] Loss: 2.3148\n",
            "Epoch [10/10] Loss: 2.3295\n",
            "\n",
            "Testing SGD optimizer model:\n",
            "Accuracy: 8.68%\n",
            "\n",
            "Training with Momentum optimizer:\n",
            "Epoch [1/10] Loss: 2.2952\n",
            "Epoch [2/10] Loss: 2.2953\n",
            "Epoch [3/10] Loss: 2.2871\n",
            "Epoch [4/10] Loss: 2.3269\n",
            "Epoch [5/10] Loss: 2.2946\n",
            "Epoch [6/10] Loss: 2.3221\n",
            "Epoch [7/10] Loss: 2.3000\n",
            "Epoch [8/10] Loss: 2.2994\n",
            "Epoch [9/10] Loss: 2.3030\n",
            "Epoch [10/10] Loss: 2.3036\n",
            "\n",
            "Testing Momentum optimizer model:\n",
            "Accuracy: 8.25%\n",
            "\n",
            "Training with Adam optimizer:\n",
            "Epoch [1/10] Loss: 2.2960\n",
            "Epoch [2/10] Loss: 2.2783\n",
            "Epoch [3/10] Loss: 2.2838\n",
            "Epoch [4/10] Loss: 2.2893\n",
            "Epoch [5/10] Loss: 2.2933\n",
            "Epoch [6/10] Loss: 2.2766\n",
            "Epoch [7/10] Loss: 2.2776\n",
            "Epoch [8/10] Loss: 2.2636\n",
            "Epoch [9/10] Loss: 2.2990\n",
            "Epoch [10/10] Loss: 2.3078\n",
            "\n",
            "Testing Adam optimizer model:\n",
            "Accuracy: 21.37%\n"
          ]
        }
      ],
      "source": [
        "import torch\n",
        "import torch.nn as nn\n",
        "import torch.optim as optim\n",
        "from torchvision import datasets, transforms\n",
        "from torch.utils.data import DataLoader\n",
        "\n",
        "# Set device\n",
        "device = torch.device(\"cuda\" if torch.cuda.is_available() else \"cpu\")\n",
        "\n",
        "# Hyperparameters\n",
        "input_size = 784  # 28x28 images\n",
        "hidden_size = 128\n",
        "output_size = 10  # Number of classes (0-9)\n",
        "batch_size = 64\n",
        "learning_rate = 0.001\n",
        "num_epochs = 10\n",
        "\n",
        "# MNIST dataset\n",
        "transform = transforms.ToTensor()\n",
        "train_dataset = datasets.MNIST(root='./data', train=True, transform=transform, download=True)\n",
        "test_dataset = datasets.MNIST(root='./data', train=False, transform=transform, download=True)\n",
        "\n",
        "train_loader = DataLoader(dataset=train_dataset, batch_size=batch_size, shuffle=True)\n",
        "test_loader = DataLoader(dataset=test_dataset, batch_size=batch_size, shuffle=False)\n",
        "\n",
        "# Simple Feedforward Neural Network\n",
        "class NeuralNet(nn.Module):\n",
        "    def __init__(self, input_size, hidden_size, output_size):\n",
        "        super(NeuralNet, self).__init__()\n",
        "        self.fc1 = nn.Linear(input_size, hidden_size)\n",
        "        self.relu = nn.ReLU()\n",
        "        self.fc2 = nn.Linear(hidden_size, output_size)\n",
        "\n",
        "    def forward(self, x):\n",
        "        x = x.view(-1, 28*28)\n",
        "        x = self.fc1(x)\n",
        "        x = self.relu(x)\n",
        "        x = self.fc2(x)\n",
        "        return x\n",
        "\n",
        "# Initialize model, loss function, and data\n",
        "model = NeuralNet(input_size, hidden_size, output_size).to(device)\n",
        "criterion = nn.CrossEntropyLoss()\n",
        "\n",
        "# Different optimizers\n",
        "optimizers = {\n",
        "    'SGD': optim.SGD(model.parameters(), lr=learning_rate),\n",
        "    'Momentum': optim.SGD(model.parameters(), lr=learning_rate, momentum=0.9),\n",
        "    'Adam': optim.Adam(model.parameters(), lr=learning_rate)\n",
        "}\n",
        "\n",
        "def train_model(optimizer_name, optimizer):\n",
        "    # Initialize the model again\n",
        "    model = NeuralNet(input_size, hidden_size, output_size).to(device)\n",
        "    optimizer = optimizer\n",
        "\n",
        "    for epoch in range(num_epochs):\n",
        "        for batch_idx, (data, targets) in enumerate(train_loader):\n",
        "            # Get data to device\n",
        "            data = data.to(device)\n",
        "            targets = targets.to(device)\n",
        "\n",
        "            # Forward pass\n",
        "            scores = model(data)\n",
        "            loss = criterion(scores, targets)\n",
        "\n",
        "            # Backward pass and optimization\n",
        "            optimizer.zero_grad()\n",
        "            loss.backward()\n",
        "            optimizer.step()\n",
        "\n",
        "        print(f'Epoch [{epoch+1}/{num_epochs}] Loss: {loss.item():.4f}')\n",
        "\n",
        "    return model\n",
        "\n",
        "def test_model(model):\n",
        "    model.eval()  # Set model to evaluation mode\n",
        "    num_correct = 0\n",
        "    num_samples = 0\n",
        "\n",
        "    with torch.no_grad():\n",
        "        for data, targets in test_loader:\n",
        "            data = data.to(device)\n",
        "            targets = targets.to(device)\n",
        "\n",
        "            scores = model(data)\n",
        "            _, predictions = scores.max(1)\n",
        "            num_correct += (predictions == targets).sum()\n",
        "            num_samples += predictions.size(0)\n",
        "\n",
        "    accuracy = float(num_correct) / float(num_samples) * 100\n",
        "    print(f'Accuracy: {accuracy:.2f}%')\n",
        "\n",
        "# Training and testing with different optimizers\n",
        "for optimizer_name, optimizer in optimizers.items():\n",
        "    print(f'\\nTraining with {optimizer_name} optimizer:')\n",
        "    trained_model = train_model(optimizer_name, optimizer)\n",
        "    print(f'\\nTesting {optimizer_name} optimizer model:')\n",
        "    test_model(trained_model)\n",
        "\n"
      ]
    }
  ]
}